{
 "cells": [
  {
   "cell_type": "code",
   "execution_count": null,
   "metadata": {},
   "outputs": [],
   "source": [
    "import numpy as np\n",
    "import matplotlib.pyplot as plt\n",
    "from matplotlib.animation import FuncAnimation\n",
    "from IPython.display import HTML\n",
    "from fourier_drawing.fourier_drawing import VectorPlotter"
   ]
  },
  {
   "cell_type": "code",
   "execution_count": null,
   "metadata": {},
   "outputs": [],
   "source": [
    "# Example usage:\n",
    "vectors = np.array([(5, 45), (3, 60), (4, 30)])  # length, angle\n",
    "\n",
    "# create random vectors\n",
    "n=11 # must be odd (ungerade)\n",
    "max_vec_len = 3\n",
    "vectors = np.array([max_vec_len*np.random.rand(n), np.random.rand(n)*360]).transpose()\n",
    "\n",
    "# ax limits\n",
    "ax_limits =  [-10, 10]\n",
    "\n",
    "# Create an instance of VectorPlotter\n",
    "plotter = VectorPlotter(ax_limits=ax_limits, end_color='r', end_markersize=3)\n",
    "\n",
    "# Set up the animation\n",
    "ani = FuncAnimation(\n",
    "    plotter.fig, plotter.update, frames=np.arange(0, 360, 5), fargs=(vectors,), blit=False\n",
    ")\n",
    "\n",
    "# Display the animation in Jupyter notebook\n",
    "HTML(ani.to_jshtml())\n"
   ]
  }
 ],
 "metadata": {
  "kernelspec": {
   "display_name": ".venv",
   "language": "python",
   "name": "python3"
  },
  "language_info": {
   "codemirror_mode": {
    "name": "ipython",
    "version": 3
   },
   "file_extension": ".py",
   "mimetype": "text/x-python",
   "name": "python",
   "nbconvert_exporter": "python",
   "pygments_lexer": "ipython3",
   "version": "3.10.12"
  }
 },
 "nbformat": 4,
 "nbformat_minor": 2
}
