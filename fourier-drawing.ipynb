{
 "cells": [
  {
   "cell_type": "code",
   "execution_count": null,
   "metadata": {},
   "outputs": [],
   "source": [
    "import numpy as np\n",
    "from matplotlib.animation import FuncAnimation\n",
    "from IPython.display import HTML\n",
    "from fourier_drawing.fourier_plotting import VectorPlotter\n",
    "from fourier_drawing.data import load_data\n",
    "from fourier_drawing.fourier import calc_n_fourier_components\n"
   ]
  },
  {
   "cell_type": "code",
   "execution_count": null,
   "metadata": {},
   "outputs": [],
   "source": [
    "# Example usage:\n",
    "vectors = np.array([(5, 45), (3, 60), (4, 30)])  # length, angle\n",
    "\n",
    "# load data\n",
    "data = load_data(\"pigeon\")\n",
    "\n",
    "# create random vectors\n",
    "vectors = calc_n_fourier_components(point_array=data, n=100)\n",
    "\n",
    "# ax limits\n",
    "ax_limits =  [-1.2, 1.2]\n",
    "\n",
    "# Create an instance of VectorPlotter\n",
    "plotter = VectorPlotter(ax_limits=ax_limits, end_color='r', end_markersize=3)\n",
    "\n",
    "# Set up the animation\n",
    "ani = FuncAnimation(\n",
    "    plotter.fig, plotter.update, frames=np.arange(0, 360, 5), fargs=(vectors,), blit=False\n",
    ")\n",
    "\n",
    "# Display the animation in Jupyter notebook\n",
    "HTML(ani.to_jshtml())\n"
   ]
  },
  {
   "cell_type": "code",
   "execution_count": null,
   "metadata": {},
   "outputs": [],
   "source": [
    "import matplotlib.pyplot as plt\n",
    "\n",
    "xs = data[:,0]\n",
    "ys = data[:,1]\n",
    "\n",
    "plt.scatter(xs, ys, s=2)\n",
    "\n",
    "for idx, (x, y) in enumerate(zip(xs, ys)):\n",
    "    plt.annotate(f\"({idx})\",\n",
    "                 (x, y),\n",
    "                 textcoords=\"offset points\",\n",
    "                 xytext=(0,10),\n",
    "                 ha=\"center\"\n",
    "                 )"
   ]
  }
 ],
 "metadata": {
  "kernelspec": {
   "display_name": ".venv",
   "language": "python",
   "name": "python3"
  },
  "language_info": {
   "codemirror_mode": {
    "name": "ipython",
    "version": 3
   },
   "file_extension": ".py",
   "mimetype": "text/x-python",
   "name": "python",
   "nbconvert_exporter": "python",
   "pygments_lexer": "ipython3",
   "version": "3.11.6"
  }
 },
 "nbformat": 4,
 "nbformat_minor": 2
}
